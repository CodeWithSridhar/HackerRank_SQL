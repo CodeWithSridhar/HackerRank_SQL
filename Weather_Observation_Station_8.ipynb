{
  "nbformat": 4,
  "nbformat_minor": 0,
  "metadata": {
    "colab": {
      "name": "Weather Observation Station 8.ipynb",
      "provenance": [],
      "authorship_tag": "ABX9TyN8O3cwsOIw6Y80izZsFRQr",
      "include_colab_link": true
    },
    "kernelspec": {
      "name": "python3",
      "display_name": "Python 3"
    },
    "language_info": {
      "name": "python"
    }
  },
  "cells": [
    {
      "cell_type": "markdown",
      "metadata": {
        "id": "view-in-github",
        "colab_type": "text"
      },
      "source": [
        "<a href=\"https://colab.research.google.com/github/CodeWithSridhar/HackerRank_SQL/blob/main/Weather_Observation_Station_8.ipynb\" target=\"_parent\"><img src=\"https://colab.research.google.com/assets/colab-badge.svg\" alt=\"Open In Colab\"/></a>"
      ]
    },
    {
      "cell_type": "code",
      "metadata": {
        "id": "pHSA603ZUTDr"
      },
      "source": [
        "select distinct city from station \n",
        "where left(city,1) in ('a','e','i','o','u') \n",
        "and right(city, 1) in ('a','e','i','o','u')"
      ],
      "execution_count": null,
      "outputs": []
    }
  ]
}