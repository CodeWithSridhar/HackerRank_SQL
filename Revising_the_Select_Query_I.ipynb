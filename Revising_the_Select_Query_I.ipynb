{
  "nbformat": 4,
  "nbformat_minor": 0,
  "metadata": {
    "colab": {
      "name": "Revising the Select Query I.ipynb",
      "provenance": [],
      "authorship_tag": "ABX9TyOdYD+5njImYxal5dbAZ+sI",
      "include_colab_link": true
    },
    "kernelspec": {
      "name": "python3",
      "display_name": "Python 3"
    },
    "language_info": {
      "name": "python"
    }
  },
  "cells": [
    {
      "cell_type": "markdown",
      "metadata": {
        "id": "view-in-github",
        "colab_type": "text"
      },
      "source": [
        "<a href=\"https://colab.research.google.com/github/CodeWithSridhar/HackerRank_SQL/blob/main/Revising_the_Select_Query_I.ipynb\" target=\"_parent\"><img src=\"https://colab.research.google.com/assets/colab-badge.svg\" alt=\"Open In Colab\"/></a>"
      ]
    },
    {
      "cell_type": "code",
      "metadata": {
        "id": "pAp5LQCewPAx"
      },
      "source": [
        "SELECT * FROM CITY \n",
        "WHERE COUNTRYCODE = \"USA\"\n",
        "AND POPULATION >= 100000;"
      ],
      "execution_count": null,
      "outputs": []
    }
  ]
}