{
  "nbformat": 4,
  "nbformat_minor": 0,
  "metadata": {
    "colab": {
      "name": "Revising the Select Query II.ipynb",
      "provenance": [],
      "authorship_tag": "ABX9TyPeANi/lCr8Di9SBh1ym3gW",
      "include_colab_link": true
    },
    "kernelspec": {
      "name": "python3",
      "display_name": "Python 3"
    },
    "language_info": {
      "name": "python"
    }
  },
  "cells": [
    {
      "cell_type": "markdown",
      "metadata": {
        "id": "view-in-github",
        "colab_type": "text"
      },
      "source": [
        "<a href=\"https://colab.research.google.com/github/CodeWithSridhar/HackerRank_SQL/blob/main/Revising_the_Select_Query_II.ipynb\" target=\"_parent\"><img src=\"https://colab.research.google.com/assets/colab-badge.svg\" alt=\"Open In Colab\"/></a>"
      ]
    },
    {
      "cell_type": "code",
      "metadata": {
        "id": "3MhNtWyBIhp4"
      },
      "source": [
        "SELECT NAME FROM CITY\n",
        "WHERE COUNTRYCODE = \"USA\"\n",
        "AND POPULATION > 120000;"
      ],
      "execution_count": null,
      "outputs": []
    }
  ]
}