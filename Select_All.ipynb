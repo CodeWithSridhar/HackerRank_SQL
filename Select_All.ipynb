{
  "nbformat": 4,
  "nbformat_minor": 0,
  "metadata": {
    "colab": {
      "name": "Select All.ipynb",
      "provenance": [],
      "authorship_tag": "ABX9TyOZYLn2+7ikDwFaYDsPba9r",
      "include_colab_link": true
    },
    "kernelspec": {
      "name": "python3",
      "display_name": "Python 3"
    },
    "language_info": {
      "name": "python"
    }
  },
  "cells": [
    {
      "cell_type": "markdown",
      "metadata": {
        "id": "view-in-github",
        "colab_type": "text"
      },
      "source": [
        "<a href=\"https://colab.research.google.com/github/CodeWithSridhar/HackerRank_SQL/blob/main/Select_All.ipynb\" target=\"_parent\"><img src=\"https://colab.research.google.com/assets/colab-badge.svg\" alt=\"Open In Colab\"/></a>"
      ]
    },
    {
      "cell_type": "code",
      "metadata": {
        "id": "PchAcl9z0zpH"
      },
      "source": [
        "SELECT * FROM CITY;"
      ],
      "execution_count": null,
      "outputs": []
    }
  ]
}