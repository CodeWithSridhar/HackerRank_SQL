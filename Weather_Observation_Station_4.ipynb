{
  "nbformat": 4,
  "nbformat_minor": 0,
  "metadata": {
    "colab": {
      "name": "Weather Observation Station 4.ipynb",
      "provenance": [],
      "authorship_tag": "ABX9TyOwsyop2uwjrqxKJzszWqZS",
      "include_colab_link": true
    },
    "kernelspec": {
      "name": "python3",
      "display_name": "Python 3"
    },
    "language_info": {
      "name": "python"
    }
  },
  "cells": [
    {
      "cell_type": "markdown",
      "metadata": {
        "id": "view-in-github",
        "colab_type": "text"
      },
      "source": [
        "<a href=\"https://colab.research.google.com/github/CodeWithSridhar/HackerRank_SQL/blob/main/Weather_Observation_Station_4.ipynb\" target=\"_parent\"><img src=\"https://colab.research.google.com/assets/colab-badge.svg\" alt=\"Open In Colab\"/></a>"
      ]
    },
    {
      "cell_type": "code",
      "metadata": {
        "id": "CndQeNuIIHLG"
      },
      "source": [
        "SELECT COUNT(CITY) - COUNT(DISTINCT CITY) FROM STATION;"
      ],
      "execution_count": null,
      "outputs": []
    }
  ]
}