{
  "nbformat": 4,
  "nbformat_minor": 0,
  "metadata": {
    "colab": {
      "name": "Weather Observation Station 5.ipynb",
      "provenance": [],
      "authorship_tag": "ABX9TyPMSPv51PK78a16WLlZcpAf",
      "include_colab_link": true
    },
    "kernelspec": {
      "name": "python3",
      "display_name": "Python 3"
    },
    "language_info": {
      "name": "python"
    }
  },
  "cells": [
    {
      "cell_type": "markdown",
      "metadata": {
        "id": "view-in-github",
        "colab_type": "text"
      },
      "source": [
        "<a href=\"https://colab.research.google.com/github/CodeWithSridhar/HackerRank_SQL/blob/main/Weather_Observation_Station_5.ipynb\" target=\"_parent\"><img src=\"https://colab.research.google.com/assets/colab-badge.svg\" alt=\"Open In Colab\"/></a>"
      ]
    },
    {
      "cell_type": "code",
      "metadata": {
        "id": "H45DDWrIJTq1"
      },
      "source": [
        "select city, length(city) from station\n",
        "order by length(city),city asc\n",
        "limit 1;\n",
        "select city, length(city) from station\n",
        "order by length(city) desc\n",
        "limit 1;"
      ],
      "execution_count": null,
      "outputs": []
    }
  ]
}