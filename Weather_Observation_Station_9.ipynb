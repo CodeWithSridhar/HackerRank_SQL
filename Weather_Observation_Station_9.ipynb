{
  "nbformat": 4,
  "nbformat_minor": 0,
  "metadata": {
    "colab": {
      "name": "Weather Observation Station 9.ipynb",
      "provenance": [],
      "authorship_tag": "ABX9TyO3fXr7436+a0k4G6/8o3uW",
      "include_colab_link": true
    },
    "kernelspec": {
      "name": "python3",
      "display_name": "Python 3"
    },
    "language_info": {
      "name": "python"
    }
  },
  "cells": [
    {
      "cell_type": "markdown",
      "metadata": {
        "id": "view-in-github",
        "colab_type": "text"
      },
      "source": [
        "<a href=\"https://colab.research.google.com/github/CodeWithSridhar/HackerRank_SQL/blob/main/Weather_Observation_Station_9.ipynb\" target=\"_parent\"><img src=\"https://colab.research.google.com/assets/colab-badge.svg\" alt=\"Open In Colab\"/></a>"
      ]
    },
    {
      "cell_type": "code",
      "metadata": {
        "id": "oMrq-btFFEIi"
      },
      "source": [
        "SELECT DISTINCT(CITY)\n",
        "FROM STATION\n",
        "WHERE LEFT(CITY,1) NOT IN ('A','E','I','O','U');"
      ],
      "execution_count": null,
      "outputs": []
    }
  ]
}