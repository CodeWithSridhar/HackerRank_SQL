{
  "nbformat": 4,
  "nbformat_minor": 0,
  "metadata": {
    "colab": {
      "name": "Weather Observation Station 3.ipynb",
      "provenance": [],
      "authorship_tag": "ABX9TyNzFuCQGFVotmwCQw8Qw7P5",
      "include_colab_link": true
    },
    "kernelspec": {
      "name": "python3",
      "display_name": "Python 3"
    },
    "language_info": {
      "name": "python"
    }
  },
  "cells": [
    {
      "cell_type": "markdown",
      "metadata": {
        "id": "view-in-github",
        "colab_type": "text"
      },
      "source": [
        "<a href=\"https://colab.research.google.com/github/CodeWithSridhar/HackerRank_SQL/blob/main/Weather_Observation_Station_3.ipynb\" target=\"_parent\"><img src=\"https://colab.research.google.com/assets/colab-badge.svg\" alt=\"Open In Colab\"/></a>"
      ]
    },
    {
      "cell_type": "code",
      "metadata": {
        "id": "rRS3aeSfca-l"
      },
      "source": [
        "SELECT DISTINCT CITY\n",
        "FROM STATION\n",
        "WHERE MOD(ID, 2) = 0;"
      ],
      "execution_count": null,
      "outputs": []
    }
  ]
}